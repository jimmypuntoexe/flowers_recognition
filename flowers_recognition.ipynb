{
  "nbformat": 4,
  "nbformat_minor": 0,
  "metadata": {
    "colab": {
      "name": "flowers_recognition.ipynb",
      "provenance": []
    },
    "kernelspec": {
      "name": "python3",
      "display_name": "Python 3"
    }
  },
  "cells": [
    {
      "cell_type": "markdown",
      "metadata": {
        "id": "hqZGnvX6t1Vr"
      },
      "source": [
        "# **Import Dataset**\n"
      ]
    },
    {
      "cell_type": "markdown",
      "metadata": {
        "id": "u_KEWIKKuWQG"
      },
      "source": [
        "## DIOCANE"
      ]
    },
    {
      "cell_type": "code",
      "metadata": {
        "id": "ZnKHAC6dtwWR"
      },
      "source": [
        ""
      ],
      "execution_count": null,
      "outputs": []
    }
  ]
}